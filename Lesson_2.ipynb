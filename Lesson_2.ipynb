{
  "nbformat": 4,
  "nbformat_minor": 0,
  "metadata": {
    "colab": {
      "name": "Lesson_2.ipynb",
      "provenance": [],
      "collapsed_sections": [],
      "include_colab_link": true
    },
    "kernelspec": {
      "name": "python3",
      "display_name": "Python 3"
    }
  },
  "cells": [
    {
      "cell_type": "markdown",
      "metadata": {
        "id": "view-in-github",
        "colab_type": "text"
      },
      "source": [
        "<a href=\"https://colab.research.google.com/github/IvenKu/TMSkills/blob/main/Lesson_2.ipynb\" target=\"_parent\"><img src=\"https://colab.research.google.com/assets/colab-badge.svg\" alt=\"Open In Colab\"/></a>"
      ]
    },
    {
      "cell_type": "markdown",
      "metadata": {
        "id": "YS__l-PhjbRl"
      },
      "source": [
        "# Python. Занятие 2"
      ]
    },
    {
      "cell_type": "markdown",
      "metadata": {
        "id": "0UhMv4GejnwO"
      },
      "source": [
        "## Строки. Работа со строками. Литералы и форматирование.\n",
        "\n",
        "Строки в Python - упорядоченные последовательности символов, используемые для хранения и представления текстовой информации, поэтому с помощью строк можно работать со всем, что может быть представлено в текстовой форме."
      ]
    },
    {
      "cell_type": "markdown",
      "metadata": {
        "id": "QIpkUWyOkBx2"
      },
      "source": [
        "### Литералы строк.\n",
        "\n",
        "Строки в апострофах и в кавычках - одно и то же. Причина наличия двух вариантов в том, чтобы позволить вставлять в литералы строк символы кавычек или апострофов, не используя экранирование.\n",
        "\n",
        "```\n",
        "S = 'spam\"s'\n",
        "S = \"spam's\"\n",
        "```\n",
        "---\n",
        "### Экранированные строк - служебные символы.\n",
        "\n",
        "1. **\\n**  -  Перевод строки.\n",
        "1. **\\a**  -  Гудок встроенного в систему динамика.\n",
        "1. **\\b**  -  Backspace, он же возврат, он же \"пробел назад\" – удаляет один символ перед курсором.Если **\\b** находится в конце строки, то удаления не происходит.\n",
        "1. **\\f**  -  Разрыв страницы.Указывает в каком месте заканчивается одна страница и начинается другая. \n",
        "\n",
        "\n",
        "*Раньше он использовался для управления подачей бумаги в принтерах. Когда принтер встречал этот символ, это означало что ему надо было извлеч страницу и загрузить на печать следующий лист бумаги. Сейчас, он может встретиться (и то не факт, что встретится) разве что в исходных кодах некоторых языков программирования, в которых принято соглашение разбивать код на разделы с помощью этого символа. Например, интерпретатор Python способен учитывать \\f при расчете отступов при анализе кода.*\n",
        "1. **\\r**  -  Возврат каретки.\tВозврат курсора в начало строки.\n",
        "1. **\\t**  -  Горизонтальная табуляция. Горизонтальный отступ слева от начала строки.\n",
        "1. **\\v**  -  Вертикальная табуляция.\tВертикальный отступ сверху\n",
        "1. **\\N{id}**  -  Идентификатор ID базы данных Юникода.\n",
        "*  Пример:\n",
        "\n",
        "\n",
        "```\n",
        "print('\\N{Winking Face}')\n",
        "```\n",
        "\n",
        "\n",
        "1. **\\0**  -  Символ Null (не является признаком конца строки).\n",
        "1. **\\other**  - Под *other* понимается любая другая последовательность символов. Не является экранированной последовательностью (остается без изменений с сохранением в строке символа \"**\\**\").\n",
        "1. **\\newline** - где newline продолжение строки.\n",
        "*    Пример:\n",
        "\n",
        "\n",
        "```\n",
        "s = 'Это будет очень\\\n",
        ", очень-очень\\\n",
        ", ну прям оооооочень\\\n",
        "длинная строка'\n",
        "\n",
        "print(s)\n",
        "'Это будет очень, очень-очень, ну прям оооооочень длинная строка'\n",
        "```\n",
        "\n",
        "12. **\\ \\** - — обратный слеш. Позволяет ставить **\\**\n"
      ]
    },
    {
      "cell_type": "markdown",
      "metadata": {
        "id": "Vq6lEThh30_g"
      },
      "source": [
        "### Форматирование строк с помощью оператора %:\n",
        "\n",
        "1.  **%d, %i, %u** - Десятичное число.\n",
        "2.  **%o** - Число в восьмеричной системе счисления.\n",
        "3.  **%x** - Число в шестнадцатеричной системе счисления (буквы в нижнем регистре).\n",
        "4.  **%X** - Число в шестнадцатеричной системе счисления (буквы в верхнем регистре).\n",
        "5.  **%e** - Число с плавающей точкой с экспонентой (экспонента в нижнем регистре).\n",
        "6.  **%E** - Число с плавающей точкой с экспонентой (экспонента в верхнем регистре).\n",
        "7.  **%f, %F** - \tЧисло с плавающей точкой (обычный формат).\n",
        "8.  **%g** - Число с плавающей точкой. с экспонентой (экспонента в нижнем регистре), если она меньше, чем -4 или точности, иначе обычный формат.\n",
        "9.  **%G** - \tЧисло с плавающей точкой. с экспонентой (экспонента в верхнем регистре), если она меньше, чем -4 или точности, иначе обычный формат.\n",
        "10. **%c** - Символ (строка из одного символа или число - код символа).\n",
        "11. **%r** - \tСтрока (литерал python).\n",
        "12. **%s** - Строка (как обычно воспринимается пользователем).\n",
        "13. **%%** - Знак '%'.\n",
        "\n",
        "### Флаги преобразования:\n",
        "\n",
        "1. **#** - Значение будет использовать альтернативную форму.\n",
        "2. **0** - Свободное место будет заполнено нулями.\n",
        "3. **-** - \tСвободное место будет заполнено пробелами справа.\n",
        "4. **\"\"** - Свободное место будет заполнено пробелами справа.\n",
        "5. **+** - \tСвободное место будет заполнено пробелами слева.\n",
        "\n",
        "### Примеры:\n",
        "\n",
        "\n",
        "\n",
        "```\n",
        ">>> '%.2s' % 'Hello!'\n",
        "'He'\n",
        ">>> '%.*s' % (2, 'Hello!')\n",
        "'He'\n",
        ">>> '%-10d' % 25\n",
        "'25        '\n",
        ">>> '%+10f' % 25\n",
        "'+25.000000'\n",
        ">>> '%+10s' % 'Hello'\n",
        "'     Hello'\n",
        "```\n",
        "\n"
      ]
    },
    {
      "cell_type": "markdown",
      "metadata": {
        "id": "GsH1JNmIQxli"
      },
      "source": [
        "### Форматирование строк с помощью метода format.\n"
      ]
    },
    {
      "cell_type": "markdown",
      "metadata": {
        "id": "xvcyBNxg_euO"
      },
      "source": [
        "\n",
        "Если для подстановки требуется только один аргумент, то значение - сам аргумент:\n",
        "\n",
        "\n",
        "```\n",
        ">>> 'Hello, {}!'.format('Vasya')\n",
        "'Hello, Vasya!'\n",
        "```\n",
        "А если несколько, то значениями будут являться все аргументы со строками подстановки (обычных или именованных):\n",
        "\n",
        "\n",
        "```\n",
        ">>> '{0}, {1}, {2}'.format('a', 'b', 'c')\n",
        "'a, b, c'\n",
        ">>> '{}, {}, {}'.format('a', 'b', 'c')\n",
        "'a, b, c'\n",
        ">>> '{2}, {1}, {0}'.format('a', 'b', 'c')\n",
        "'c, b, a'\n",
        ">>> '{2}, {1}, {0}'.format(*'abc')\n",
        "'c, b, a'\n",
        ">>> '{0}{1}{0}'.format('abra', 'cad')\n",
        "'abracadabra'\n",
        ">>> 'Coordinates: {latitude}, {longitude}'.format(latitude='37.24N', longitude='-115.81W')\n",
        "'Coordinates: 37.24N, -115.81W'\n",
        ">>> coord = {'latitude': '37.24N', 'longitude': '-115.81W'}\n",
        ">>> 'Coordinates: {latitude}, {longitude}'.format(**coord)\n",
        "'Coordinates: 37.24N, -115.81W'\n",
        "```\n",
        "\n",
        "Однако метод format умеет большее. Вот его синтаксис:\n",
        "\n",
        "* **поле замены**     ::=  \"{\" [имя поля] [\"!\" преобразование] [\":\" спецификация] \"}\"\n",
        "* **имя поля**        ::=  arg_name (\".\" имя атрибута | \"[\" индекс \"]\")\n",
        "* **преобразование**  ::=  \"r\" (внутреннее представление) | \"s\" (человеческое представление)\n",
        "* **спецификация**    ::=  см. ниже\n",
        "\n",
        "```\n",
        ">>> \"Units destroyed: {players[0]}\".format(players = [1, 2, 3])\n",
        "'Units destroyed: 1'\n",
        ">>> \"Units destroyed: {players[0]!r}\".format(players = ['1', '2', '3'])\n",
        "\"Units destroyed: '1'\"\n",
        "```\n",
        "\n",
        "Теперь спецификация формата:\n",
        "\n",
        "* **спецификация** ::=  [[fill]align][sign][#][0][width][,][.precision][type]\n",
        "* **заполнитель**  ::=  символ кроме '{' или '}'\n",
        "* **выравнивание** ::=  \"<\" | \">\" | \"=\" | \"^\"\n",
        "* **знак**         ::=  \"+\" | \"-\" | \" \"\n",
        "* **ширина**       ::=  integer\n",
        "* **точность**     ::=  integer\n",
        "* **тип**          ::=  \"b\" | \"c\" | \"d\" | \"e\" | \"E\" | \"f\" | \"F\" | \"g\" | \"G\" | \"n\" | \"o\" | \"s\" | \"x\" | \"X\" | \"%\"\n",
        "\n",
        "Выравнивание производится при помощи символа-заполнителя. Доступны следующие варианты выравнивания:\n",
        "\n",
        "* **<** - Символы-заполнители будут справа (выравнивание объекта по левому краю) (по умолчанию).\n",
        "* **>** - выравнивание объекта по правому краю.\n",
        "* **=** - Заполнитель будет после знака, но перед цифрами. Работает только с числовыми типами.\n",
        "* **^** - Выравнивание по центру.\n",
        "\n",
        "Опция \"знак\" используется только для чисел и может принимать следующие значения:\n",
        "\n",
        "* **+** - Знак должен быть использован для всех чисел.\n",
        "* **-** - \t'-' для отрицательных, ничего для положительных.\n",
        "* **пробел** - '-' для отрицательных, пробел для положительных.\n",
        "\n",
        "Поле \"тип\" может принимать следующие значения:\n",
        "* **d, i, u** - Десятичное число.\n",
        "* **o** - Число в восьмеричной системе счисления.\n",
        "* **x** - \tЧисло в шестнадцатеричной системе счисления (буквы в нижнем регистре).\n",
        "* **X** - Число в шестнадцатеричной системе счисления (буквы в верхнем регистре).\n",
        "* **e** - \tЧисло с плавающей точкой с экспонентой (экспонента в нижнем регистре).\n",
        "* **E** - Число с плавающей точкой с экспонентой (экспонента в верхнем регистре).\n",
        "* **f, F** - Число с плавающей точкой (обычный формат).\n",
        "* **g** - Число с плавающей точкой. с экспонентой (экспонента в нижнем регистре), если она меньше, чем -4 или точности, иначе обычный формат.\n",
        "* **G** - Число с плавающей точкой. с экспонентой (экспонента в верхнем регистре), если она меньше, чем -4 или точности, иначе обычный формат.\n",
        "* **c** - Символ (строка из одного символа или число - код символа).\n",
        "* **s** - Строка.\n",
        "* **%** - Число умножается на 100, отображается число с плавающей точкой, а за ним знак %.\n",
        "\n",
        "*Пример:*\n",
        "\n",
        "\n",
        "```\n",
        ">>> coord = (3, 5)\n",
        ">>> 'X: {0[0]};  Y: {0[1]}'.format(coord)\n",
        "'X: 3;  Y: 5'\n",
        ">>> \"repr() shows quotes: {!r}; str() doesn't: {!s}\".format('test1', 'test2')\n",
        "\"repr() shows quotes: 'test1'; str() doesn't: test2\"\n",
        ">>> '{:<30}'.format('left aligned')\n",
        "'left aligned                  '\n",
        ">>> '{:>30}'.format('right aligned')\n",
        "'                 right aligned'\n",
        ">>> '{:^30}'.format('centered')\n",
        "'           centered           '\n",
        ">>> '{:*^30}'.format('centered')  # use '*' as a fill char\n",
        "'***********centered***********'\n",
        ">>> '{:+f}; {:+f}'.format(3.14, -3.14)  # show it always\n",
        "'+3.140000; -3.140000'\n",
        ">>> '{: f}; {: f}'.format(3.14, -3.14)  # show a space for positive numbers\n",
        "' 3.140000; -3.140000'\n",
        ">>> '{:-f}; {:-f}'.format(3.14, -3.14)  # show only the minus -- same as '{:f}; {:f}'\n",
        "'3.140000; -3.140000'\n",
        ">>> # format also supports binary numbers\n",
        ">>> \"int: {0:d};  hex: {0:x};  oct: {0:o};  bin: {0:b}\".format(42)\n",
        "'int: 42;  hex: 2a;  oct: 52;  bin: 101010'\n",
        ">>> # with 0x, 0o, or 0b as prefix:\n",
        ">>> \"int: {0:d};  hex: {0:#x};  oct: {0:#o};  bin: {0:#b}\".format(42)\n",
        "'int: 42;  hex: 0x2a;  oct: 0o52;  bin: 0b101010'\n",
        ">>> points = 19.5\n",
        ">>> total = 22\n",
        ">>> 'Correct answers: {:.2%}'.format(points/total)\n",
        "'Correct answers: 88.64%'\n",
        "```\n",
        "\n",
        "\n"
      ]
    },
    {
      "cell_type": "code",
      "metadata": {
        "id": "QJHGKh3XsoU2",
        "colab": {
          "base_uri": "https://localhost:8080/",
          "height": 34
        },
        "outputId": "9fc48054-4555-4124-dad6-f58723786f08"
      },
      "source": [
        "i1 = 1024\n",
        "i2 = i1\n",
        "i2 = 7\n",
        "print(id(i1),id(i2))"
      ],
      "execution_count": null,
      "outputs": [
        {
          "output_type": "stream",
          "text": [
            "140626166518736 10914688\n"
          ],
          "name": "stdout"
        }
      ]
    },
    {
      "cell_type": "code",
      "metadata": {
        "id": "QfW9DdMttovp"
      },
      "source": [
        "a = 5"
      ],
      "execution_count": null,
      "outputs": []
    },
    {
      "cell_type": "code",
      "metadata": {
        "colab": {
          "base_uri": "https://localhost:8080/"
        },
        "id": "6WkYS8OI6PGb",
        "outputId": "d19d1102-acbe-431b-b538-553035e34607"
      },
      "source": [
        "print(f'text: {a}')"
      ],
      "execution_count": null,
      "outputs": [
        {
          "output_type": "stream",
          "text": [
            "text: 5\n"
          ],
          "name": "stdout"
        }
      ]
    },
    {
      "cell_type": "code",
      "metadata": {
        "id": "satR92GatuCM",
        "colab": {
          "base_uri": "https://localhost:8080/",
          "height": 34
        },
        "outputId": "85c99e27-beb4-4b8f-ec40-9ed71e20d26f"
      },
      "source": [
        ""
      ],
      "execution_count": null,
      "outputs": [
        {
          "output_type": "execute_result",
          "data": {
            "text/plain": [
              "140626166520816"
            ]
          },
          "metadata": {
            "tags": []
          },
          "execution_count": 86
        }
      ]
    },
    {
      "cell_type": "markdown",
      "metadata": {
        "id": "Rc0vo8XfQsGb"
      },
      "source": [
        "### Ссылки и ссылочные типы данных."
      ]
    },
    {
      "cell_type": "markdown",
      "metadata": {
        "id": "PPhxKgUrJcn_"
      },
      "source": [
        "\n",
        "\n",
        "В Python есть изменяемые и неизменяемые типы. Изменяемые отличаются тем, что их содержимое можно сменить, не изменив ссылку на них. Неизменяемые объекты приходится пересоздавать, чтобы отразить изменения состояния. При этом все старые ссылки не видят это обновление, потому что указывают на старый объект.\n",
        "*Например:*\n",
        "\n",
        "\n",
        "```\n",
        "l1 = [1, 2, 3]\n",
        "l2 = l1\n",
        "print(l1, l2, id(l1), id(l2))  \n",
        "# [1, 2, 3] [1, 2, 3] 139917408901064 139917408901064\n",
        "\n",
        "l1[1] = 10\n",
        "print(l1, l2, id(l1), id(l2))  \n",
        "# [1, 10, 3] [1, 10, 3] 139917408901064 139917408901064\n",
        "```\n",
        "\n",
        "Числа, строки, кортежи - это неизменяемые объекты:\n",
        "\n",
        "\n",
        "\n",
        "```\n",
        "v1 = 1024\n",
        "v2 = v1\n",
        "print(v1, v2, id(v1), id(v2))\n",
        "# 1024 1024 ...7040 ...7040\n",
        "\n",
        "v1 = 2048\n",
        "print(v1, v2, id(v1), id(v2))\n",
        "# 2048 1024 ...5312 ...7040\n",
        "\n",
        "t1 = (1, 2, 3)\n",
        "t2 = t1\n",
        "print(t1, t2, id(t1), id(t2))\n",
        "# (1, 2, 3) (1, 2, 3) ...6232 ...6232\n",
        "\n",
        "# t1[1] = 10  # не сработает, так как кортежи неизменяемые\n",
        "t1 = (1, 10, 3)\n",
        "print(t1, t2, id(t1), id(t2))\n",
        "# (1, 10, 3) (1, 2, 3) ...7240 ...6232\n",
        "```\n",
        "\n",
        "\n",
        "\n"
      ]
    },
    {
      "cell_type": "code",
      "metadata": {
        "id": "qf28mJw13L1P"
      },
      "source": [
        "l1 = []\n",
        "a = (1,3,4,5,l1,76)"
      ],
      "execution_count": null,
      "outputs": []
    },
    {
      "cell_type": "markdown",
      "metadata": {
        "id": "F1bA8_0-Qo9B"
      },
      "source": [
        "### Создание, изменение, удаление словарей и работа с его элементами."
      ]
    },
    {
      "cell_type": "code",
      "metadata": {
        "colab": {
          "base_uri": "https://localhost:8080/"
        },
        "id": "JTTMv1akQ_ke",
        "outputId": "c0980fd1-bdf5-4102-d1f7-1601e6de9771"
      },
      "source": [
        "d1"
      ],
      "execution_count": null,
      "outputs": [
        {
          "output_type": "execute_result",
          "data": {
            "text/plain": [
              "{'RB': 'Minsk', 'USA': 'Washington'}"
            ]
          },
          "metadata": {
            "tags": []
          },
          "execution_count": 60
        }
      ]
    },
    {
      "cell_type": "markdown",
      "metadata": {
        "id": "NnppqRWRMa9N"
      },
      "source": [
        "#### Создание:\n",
        "Пустой словарь можно создать, используя функцию dict(), либо просто указав пустые фигурные скобки.\n",
        "\n",
        "\n",
        "```\n",
        ">>> d1 = dict()\n",
        ">>> print(type(d1))\n",
        "<class 'dict'>\n",
        ">>> d2 = {}\n",
        ">>> print(type(d2))\n",
        "<class 'dict'>\n",
        "```\n",
        "\n",
        "Если необходимо создать словарь с заранее подготовленным набором данных, то можно использовать один из перечисленных выше подходов, но с перечислением групп ключ-значение\n",
        "\n",
        "```\n",
        ">>> d1 = dict(Ivan=\"manager\", Mark=\"worker\")\n",
        ">>> print(d1)\n",
        "{'Mark': 'worker', 'Ivan': 'manager'}\n",
        ">>> d2 = {\"A1\":\"123\", \"A2\":\"456\"}\n",
        ">>> print(d2)\n",
        "{'A2': '456', 'A1': '123'}\n",
        "```\n",
        "\n",
        "#### Добавление и удаление элемента\n",
        "\n",
        "Чтобы добавить элемент в словарь нужно указать новый ключ и значение.\n",
        "\n",
        "```\n",
        ">>> d1 = {\"Russia\":\"Moscow\", \"USA\":\"Washington\"}\n",
        ">>> d1[\"China\"]=\"Beijing\"\n",
        ">>> print(d1)\n",
        "{'Russia': 'Moscow', 'China': 'Beijing', 'USA': 'Washington'}\n",
        "```\n",
        "\n",
        "Для удаления элемента из словаря можно воспользоваться командой del.\n",
        "\n",
        "```\n",
        ">>> d2 = {\"A1\":\"123\", \"A2\":\"456\"}\n",
        ">>> del d2[\"A1\"]\n",
        ">>> print(d2)\n",
        "{'A2': '456'}\n",
        "```\n",
        "\n",
        "#### Работа со словарем\n",
        "Проверка наличия ключа в словаре производится с помощью оператора in.\n",
        "\n",
        "```\n",
        ">>> d2 = {\"A1\":\"123\", \"A2\":\"456\"}\n",
        ">>> \"A1\" in d2\n",
        "True\n",
        ">>> \"A3\" in d2\n",
        "False\n",
        "```\n",
        "\n",
        "Доступ к элементу словаря, осуществляется как же как доступ к элементу списка, только в качестве индекса указывается ключ.\n",
        "\n",
        "```\n",
        ">>> d1 = {\"Russia\":\"Moscow\", \"USA\":\"Washington\"}\n",
        ">>> d1[\"Russia\"]\n",
        "'Moscow'\n",
        "```\n",
        "\n",
        "\n"
      ]
    },
    {
      "cell_type": "code",
      "metadata": {
        "id": "NiQqZ0Pf5z4N"
      },
      "source": [
        ""
      ],
      "execution_count": null,
      "outputs": []
    },
    {
      "cell_type": "code",
      "metadata": {
        "id": "NLKVx4wY3X_C",
        "colab": {
          "base_uri": "https://localhost:8080/"
        },
        "outputId": "31522283-54d5-440d-e378-1aff86e2f37f"
      },
      "source": [
        "russia = {\"A1\": \"123\", \"A2\":\"456\"}\n",
        "belarus = {'A3': 34134, \"A4\": 6666, 'A1': 342322}\n",
        "print(russia,belarus)"
      ],
      "execution_count": 7,
      "outputs": [
        {
          "output_type": "stream",
          "name": "stdout",
          "text": [
            "{'A1': '123', 'A2': '456'} {'A3': 34134, 'A4': 6666, 'A1': 342322}\n"
          ]
        }
      ]
    },
    {
      "cell_type": "code",
      "metadata": {
        "id": "Zb8v8OF1R0QC",
        "colab": {
          "base_uri": "https://localhost:8080/"
        },
        "outputId": "5ed87427-cf36-4c35-e442-6fcf342baaa4"
      },
      "source": [
        "ussia = {\"A1\": \"123\", \"A2\":\"456\"}\n",
        "belarus = {'A3': 34134, \"A4\": 6666, 'A1': 342322}\n",
        "print(russia)"
      ],
      "execution_count": 8,
      "outputs": [
        {
          "output_type": "stream",
          "name": "stdout",
          "text": [
            "{'A1': '123', 'A2': '456'}\n"
          ]
        }
      ]
    },
    {
      "cell_type": "code",
      "metadata": {
        "id": "ko9984Cg6DGV",
        "colab": {
          "base_uri": "https://localhost:8080/"
        },
        "outputId": "8723c9e5-5fd2-4d92-d8bb-e23b310a77c7"
      },
      "source": [
        "russia = {\"A1\": \"123\", \"A2\":\"456\"}\n",
        "belarus = {'A3': 34134, \"A4\": 6666, 'A1': 342322}\n",
        "\n",
        "russia.update (belarus)\n",
        "print(russia,belarus)"
      ],
      "execution_count": 12,
      "outputs": [
        {
          "output_type": "stream",
          "name": "stdout",
          "text": [
            "{'A1': 342322, 'A2': '456', 'A3': 34134, 'A4': 6666} {'A3': 34134, 'A4': 6666, 'A1': 342322}\n"
          ]
        }
      ]
    },
    {
      "cell_type": "code",
      "metadata": {
        "id": "fzyqOD7B_1Uz"
      },
      "source": [
        ""
      ],
      "execution_count": null,
      "outputs": []
    },
    {
      "cell_type": "code",
      "metadata": {
        "colab": {
          "base_uri": "https://localhost:8080/"
        },
        "id": "VEmmobRG6J7j",
        "outputId": "494acae8-50e1-496c-d7eb-ac3091553d48"
      },
      "source": [
        "belarus =  {\"A2\":\"342322\", \"A3\": \"34134\", \"A4\":\"6666\"}\n",
        "print(belarus)"
      ],
      "execution_count": 20,
      "outputs": [
        {
          "output_type": "stream",
          "name": "stdout",
          "text": [
            "{'A2': '342322', 'A3': '34134', 'A4': '6666'}\n"
          ]
        }
      ]
    },
    {
      "cell_type": "markdown",
      "metadata": {
        "id": "KXKbf9qIVC5j"
      },
      "source": [
        ""
      ]
    },
    {
      "cell_type": "code",
      "metadata": {
        "id": "vBVxoohi9MPG",
        "colab": {
          "base_uri": "https://localhost:8080/"
        },
        "outputId": "d4fca7fc-c81b-4c64-a6a6-56c0f11db8ac"
      },
      "source": [
        "belarus.pop('A2', None)\n",
        "print(belarus)"
      ],
      "execution_count": 21,
      "outputs": [
        {
          "output_type": "stream",
          "name": "stdout",
          "text": [
            "{'A3': '34134', 'A4': '6666'}\n"
          ]
        }
      ]
    },
    {
      "cell_type": "code",
      "metadata": {
        "id": "Wv2DnCS-TssT"
      },
      "source": [
        "a = b = [1,2]"
      ],
      "execution_count": null,
      "outputs": []
    },
    {
      "cell_type": "code",
      "metadata": {
        "colab": {
          "base_uri": "https://localhost:8080/"
        },
        "id": "EByLRohpT9dr",
        "outputId": "91334b20-4072-46fd-e367-7569219116f9"
      },
      "source": [
        "b"
      ],
      "execution_count": null,
      "outputs": [
        {
          "output_type": "execute_result",
          "data": {
            "text/plain": [
              "2"
            ]
          },
          "metadata": {
            "tags": []
          },
          "execution_count": 75
        }
      ]
    },
    {
      "cell_type": "code",
      "metadata": {
        "id": "9qGFrvV-5YkQ",
        "colab": {
          "base_uri": "https://localhost:8080/",
          "height": 35
        },
        "outputId": "7e3f3727-be61-4901-aec7-1b127113e324"
      },
      "source": [
        "belarus.pop('A3')"
      ],
      "execution_count": 24,
      "outputs": [
        {
          "output_type": "execute_result",
          "data": {
            "application/vnd.google.colaboratory.intrinsic+json": {
              "type": "string"
            },
            "text/plain": [
              "'34134'"
            ]
          },
          "metadata": {},
          "execution_count": 24
        }
      ]
    },
    {
      "cell_type": "code",
      "metadata": {
        "id": "mfWOX3k55dLn",
        "colab": {
          "base_uri": "https://localhost:8080/",
          "height": 35
        },
        "outputId": "a3c27f41-2fc2-4ee8-ec14-771a62466b82"
      },
      "source": [
        "d2"
      ],
      "execution_count": null,
      "outputs": [
        {
          "output_type": "execute_result",
          "data": {
            "text/plain": [
              "{'A1': 342322, 'A2': '456', 'A3': 34134, 'A4': 6666}"
            ]
          },
          "metadata": {
            "tags": []
          },
          "execution_count": 151
        }
      ]
    },
    {
      "cell_type": "code",
      "metadata": {
        "id": "xgliWoOW31Fu",
        "colab": {
          "base_uri": "https://localhost:8080/",
          "height": 52
        },
        "outputId": "855d03ee-3859-42a4-e31c-10e74ee80025"
      },
      "source": [
        "print(id(d2),id(d3))\n",
        "print(id(d2) == id(d3))"
      ],
      "execution_count": null,
      "outputs": [
        {
          "output_type": "stream",
          "text": [
            "140626165183112 140626164929520\n",
            "False\n"
          ],
          "name": "stdout"
        }
      ]
    },
    {
      "cell_type": "code",
      "metadata": {
        "id": "1egFmRVD3fpk"
      },
      "source": [
        "d3 = d2.copy()"
      ],
      "execution_count": null,
      "outputs": []
    },
    {
      "cell_type": "code",
      "metadata": {
        "id": "zlXAwVS03sQI"
      },
      "source": [
        "d3['555'] = 555"
      ],
      "execution_count": null,
      "outputs": []
    },
    {
      "cell_type": "code",
      "metadata": {
        "id": "0V7y_a6Q3pKJ",
        "colab": {
          "base_uri": "https://localhost:8080/",
          "height": 35
        },
        "outputId": "9889daec-4b0f-45e0-ecbe-73486aaba314"
      },
      "source": [
        "print(d2)"
      ],
      "execution_count": null,
      "outputs": [
        {
          "output_type": "stream",
          "text": [
            "{'A1': '123', 'A2': '456'}\n"
          ],
          "name": "stdout"
        }
      ]
    },
    {
      "cell_type": "code",
      "metadata": {
        "id": "da2AijFA3cwx"
      },
      "source": [
        "a = d2.popitem()"
      ],
      "execution_count": null,
      "outputs": []
    },
    {
      "cell_type": "code",
      "metadata": {
        "id": "JWQ1Z-gP48K6",
        "colab": {
          "base_uri": "https://localhost:8080/",
          "height": 35
        },
        "outputId": "25d8d825-ce54-4b41-d106-74f682abe6a5"
      },
      "source": [
        "a\n"
      ],
      "execution_count": null,
      "outputs": [
        {
          "output_type": "execute_result",
          "data": {
            "text/plain": [
              "('A2', '456')"
            ]
          },
          "metadata": {
            "tags": []
          },
          "execution_count": 148
        }
      ]
    },
    {
      "cell_type": "code",
      "metadata": {
        "id": "Y3eCS7E9Qenu"
      },
      "source": [
        "d1 = {\"Russia\":\"Moscow\", \"USA\":\"Washington\"}\n"
      ],
      "execution_count": null,
      "outputs": []
    },
    {
      "cell_type": "code",
      "metadata": {
        "id": "6LASaF6jQfo-"
      },
      "source": [
        "d1['RB'] = 'Minsk'"
      ],
      "execution_count": null,
      "outputs": []
    },
    {
      "cell_type": "code",
      "metadata": {
        "colab": {
          "base_uri": "https://localhost:8080/",
          "height": 35
        },
        "id": "eV4PvInlQsaQ",
        "outputId": "e087a5e9-885e-4aa8-c6e1-a01a51aa5f97"
      },
      "source": [
        "d1['Russia']"
      ],
      "execution_count": null,
      "outputs": [
        {
          "output_type": "execute_result",
          "data": {
            "application/vnd.google.colaboratory.intrinsic+json": {
              "type": "string"
            },
            "text/plain": [
              "'Moscow'"
            ]
          },
          "metadata": {
            "tags": []
          },
          "execution_count": 57
        }
      ]
    },
    {
      "cell_type": "markdown",
      "metadata": {
        "id": "nekfgyBnQgcG"
      },
      "source": [
        "### Методы словарей\n"
      ]
    },
    {
      "cell_type": "markdown",
      "metadata": {
        "id": "5_s6vk6rNYpI"
      },
      "source": [
        "\n",
        "У словарей доступен следующий набор методов.\n",
        "\n",
        "* **clear()**\n",
        "Удаляет все элементы словаря.\n",
        "\n",
        "```\n",
        ">>> d2 = {\"A1\":\"123\", \"A2\":\"456\"}\n",
        ">>> print(d2)\n",
        "{'A2': '456', 'A1': '123'}\n",
        ">>> d2.clear()\n",
        ">>> print(d2)\n",
        "{}\n",
        "```\n",
        "\n",
        "* **copy()**\n",
        "Создается новая копия словаря.\n",
        "\n",
        "```\n",
        ">>> d2 = {\"A1\":\"123\", \"A2\":\"456\"}\n",
        ">>> d3 = d2.copy()\n",
        ">>> print(d3)\n",
        "{'A1': '123', 'A2': '456'}\n",
        ">>> d3[\"A1\"]=\"789\"\n",
        ">>> print(d2)\n",
        "{'A2': '456', 'A1': '123'}\n",
        ">>> print(d3)\n",
        "{'A1': '789', 'A2': '456'}\n",
        "```\n",
        "\n",
        "* **fromkeys(seq[, value])**\n",
        "Создает новый словарь с ключами из *seq* и значениями из *value*. По умолчанию *value* присваивается значение *None*.\n",
        "\n",
        "* **get()**\n",
        "Возвращает значение из словаря по ключу *key*.\n",
        "\n",
        "```\n",
        ">>> d = {\"A1\":\"123\", \"A2\":\"456\"}\n",
        ">>> d.get(\"A1\")\n",
        "'123'\n",
        "```\n",
        "\n",
        "* **items()**\n",
        "Возвращает элементы словаря (ключ, значение) в отформатированном виде.\n",
        "\n",
        "```\n",
        ">>> d = {\"A1\":\"123\", \"A2\":\"456\"}\n",
        ">>> d.items()\n",
        "dict_items([('A2', '456'), ('A1', '123')])\n",
        "```\n",
        "\n",
        "* **keys()**\n",
        "Возвращает ключи словаря.\n",
        "\n",
        "```\n",
        ">>> d = {\"A1\":\"123\", \"A2\":\"456\"}\n",
        ">>> d.keys()\n",
        "dict_keys(['A2', 'A1'])\n",
        "```\n",
        "\n",
        "* **pop(key[, default])**\n",
        "Если ключ *key* есть в словаре, то данный элемент удаляется из словаря и возвращается значение по этому ключу, иначе будет возвращено значение *default*. Если default не указан и запрашиваемый ключ отсутствует в словаре, то будет вызвано исключение *KeyError*.\n",
        "\n",
        "```\n",
        ">>> d = {\"A1\":\"123\", \"A2\":\"456\"}\n",
        ">>> d.pop(\"A1\")\n",
        "'123'\n",
        ">>> print(d)\n",
        "{'A2': '456'}\n",
        "```\n",
        "\n",
        "* **popitem()**\n",
        "Удаляет и возвращает пару (ключ, значение) из словаря. Если словарь пуст, то будет вызвано исключение *KeyError*.\n",
        "\n",
        "```\n",
        ">>> d = {\"A1\":\"123\", \"A2\":\"456\"}\n",
        ">>> d.popitem()\n",
        "('A2', '456')\n",
        ">>> print(d)\n",
        "{'A1': '123'}\n",
        "```\n",
        "\n",
        "* **setdefault(key[, default])**\n",
        "Если ключ *key* есть в словаре, то возвращается значение по ключу. Если такого ключа нет, то в словарь вставляется элемент с ключом key и значением *default*, если *default* не определен, то по умолчанию присваивается *None*.\n",
        "\n",
        "```\n",
        ">>> d = {\"A1\":\"123\", \"A2\":\"456\"}\n",
        ">>> d.setdefault(\"A3\", \"777\")\n",
        "'777'\n",
        ">>> print(d)\n",
        "{'A2': '456', 'A3': '777', 'A1': '123'}\n",
        ">>> d.setdefault(\"A1\")\n",
        "'123'\n",
        ">>> print(d)\n",
        "{'A2': '456', 'A3': '777', 'A1': '123'}\n",
        "```\n",
        "\n",
        "* **update([other])**\n",
        "Обновить словарь парами *(key/value)* из *other*, если ключи уже существуют, то обновить их значения.\n",
        "\n",
        "```\n",
        ">>> d = {\"A1\":\"123\", \"A2\":\"456\"}\n",
        ">>> d.update({\"A1\":\"333\", \"A3\":\"789\"})\n",
        ">>> print(d)\n",
        "{'A2': '456', 'A3': '789', 'A1': '333'}\n",
        "```\n",
        "\n",
        "* **values()**\n",
        "Возвращает значения элементов словаря.\n",
        "\n",
        "```\n",
        ">>> d = {\"A1\":\"123\", \"A2\":\"456\"}\n",
        ">>> d.values()\n",
        "dict_values(['456', '123'])\n",
        "```\n"
      ]
    },
    {
      "cell_type": "code",
      "metadata": {
        "id": "aQVw1oEY7fR4"
      },
      "source": [
        "d1 = {\"g\": 7, \"t\": 4}"
      ],
      "execution_count": 25,
      "outputs": []
    },
    {
      "cell_type": "code",
      "metadata": {
        "colab": {
          "base_uri": "https://localhost:8080/"
        },
        "id": "lPPQVhvS7koR",
        "outputId": "708259d6-8ca3-4e3a-f841-1e09bc37b06b"
      },
      "source": [
        "a = d1.pop('g')\n",
        "print(a, d1)"
      ],
      "execution_count": 26,
      "outputs": [
        {
          "output_type": "stream",
          "name": "stdout",
          "text": [
            "7 {'t': 4}\n"
          ]
        }
      ]
    },
    {
      "cell_type": "code",
      "metadata": {
        "id": "dZUMZGMD7tZm",
        "colab": {
          "base_uri": "https://localhost:8080/"
        },
        "outputId": "56968c98-63b4-4ae3-e6c7-b06e28e8c0b5"
      },
      "source": [
        "a = d1.pop('nglsknglsngks', 1)\n",
        "a"
      ],
      "execution_count": 31,
      "outputs": [
        {
          "output_type": "execute_result",
          "data": {
            "text/plain": [
              "1"
            ]
          },
          "metadata": {},
          "execution_count": 31
        }
      ]
    },
    {
      "cell_type": "code",
      "metadata": {
        "id": "HUvpqsBs46dD"
      },
      "source": [
        "my_list = [10]"
      ],
      "execution_count": 39,
      "outputs": []
    },
    {
      "cell_type": "code",
      "metadata": {
        "colab": {
          "base_uri": "https://localhost:8080/"
        },
        "id": "N7AQOtoA5EMc",
        "outputId": "8e0682f2-84cb-4df7-9b46-cb3abad60830"
      },
      "source": [
        "my_list.append(\"a\")\n",
        "my_list"
      ],
      "execution_count": 40,
      "outputs": [
        {
          "output_type": "execute_result",
          "data": {
            "text/plain": [
              "[10, 'a']"
            ]
          },
          "metadata": {},
          "execution_count": 40
        }
      ]
    },
    {
      "cell_type": "code",
      "metadata": {
        "colab": {
          "base_uri": "https://localhost:8080/"
        },
        "id": "K5h8Mhsd5MMw",
        "outputId": "86cef241-d8e4-4bf8-8ceb-45cf69d89545"
      },
      "source": [
        "my_list.insert(1,100)\n",
        "my_list"
      ],
      "execution_count": 41,
      "outputs": [
        {
          "output_type": "execute_result",
          "data": {
            "text/plain": [
              "[10, 100, 'a']"
            ]
          },
          "metadata": {},
          "execution_count": 41
        }
      ]
    },
    {
      "cell_type": "code",
      "metadata": {
        "id": "_fl94giR5buj"
      },
      "source": [
        "my_list.clear()"
      ],
      "execution_count": 42,
      "outputs": []
    },
    {
      "cell_type": "code",
      "metadata": {
        "colab": {
          "base_uri": "https://localhost:8080/",
          "height": 185
        },
        "id": "v1GEK4dV5iNZ",
        "outputId": "310f2b40-575e-4798-9e64-896fd0f80a2f"
      },
      "source": [
        "a = my_list.pop(1)\n",
        "print(f'{my_list} {a}')"
      ],
      "execution_count": 43,
      "outputs": [
        {
          "output_type": "error",
          "ename": "IndexError",
          "evalue": "ignored",
          "traceback": [
            "\u001b[0;31m---------------------------------------------------------------------------\u001b[0m",
            "\u001b[0;31mIndexError\u001b[0m                                Traceback (most recent call last)",
            "\u001b[0;32m<ipython-input-43-1e78ee1c6530>\u001b[0m in \u001b[0;36m<module>\u001b[0;34m()\u001b[0m\n\u001b[0;32m----> 1\u001b[0;31m \u001b[0ma\u001b[0m \u001b[0;34m=\u001b[0m \u001b[0mmy_list\u001b[0m\u001b[0;34m.\u001b[0m\u001b[0mpop\u001b[0m\u001b[0;34m(\u001b[0m\u001b[0;36m1\u001b[0m\u001b[0;34m)\u001b[0m\u001b[0;34m\u001b[0m\u001b[0;34m\u001b[0m\u001b[0m\n\u001b[0m\u001b[1;32m      2\u001b[0m \u001b[0mprint\u001b[0m\u001b[0;34m(\u001b[0m\u001b[0;34mf'{my_list} {a}'\u001b[0m\u001b[0;34m)\u001b[0m\u001b[0;34m\u001b[0m\u001b[0;34m\u001b[0m\u001b[0m\n",
            "\u001b[0;31mIndexError\u001b[0m: pop from empty list"
          ]
        }
      ]
    },
    {
      "cell_type": "code",
      "metadata": {
        "colab": {
          "base_uri": "https://localhost:8080/"
        },
        "id": "jfYq-9k558w7",
        "outputId": "8ed58a77-9334-4a0d-cda5-2b54bad7edad"
      },
      "source": [
        "a = [9,8,7,6,5,4,3,2,1]\n",
        "\n",
        "for arg in a:\n",
        "  print(arg)\n",
        "else:\n",
        "  print(\"else\")  "
      ],
      "execution_count": null,
      "outputs": [
        {
          "output_type": "stream",
          "text": [
            "9\n",
            "8\n",
            "7\n",
            "6\n",
            "5\n",
            "4\n",
            "3\n",
            "2\n",
            "1\n",
            "else\n"
          ],
          "name": "stdout"
        }
      ]
    },
    {
      "cell_type": "code",
      "metadata": {
        "colab": {
          "base_uri": "https://localhost:8080/",
          "height": 184
        },
        "id": "S8GMkb2N76no",
        "outputId": "0bc3262b-3181-4f13-bb13-c5a40cb7701c"
      },
      "source": [
        "0 / 0\n",
        "print(\"==============================================\")"
      ],
      "execution_count": null,
      "outputs": [
        {
          "output_type": "error",
          "ename": "ZeroDivisionError",
          "evalue": "ignored",
          "traceback": [
            "\u001b[0;31m---------------------------------------------------------------------------\u001b[0m",
            "\u001b[0;31mZeroDivisionError\u001b[0m                         Traceback (most recent call last)",
            "\u001b[0;32m<ipython-input-11-1db3be3679fa>\u001b[0m in \u001b[0;36m<module>\u001b[0;34m()\u001b[0m\n\u001b[0;32m----> 1\u001b[0;31m \u001b[0;36m0\u001b[0m \u001b[0;34m/\u001b[0m \u001b[0;36m0\u001b[0m\u001b[0;34m\u001b[0m\u001b[0;34m\u001b[0m\u001b[0m\n\u001b[0m\u001b[1;32m      2\u001b[0m \u001b[0mprint\u001b[0m\u001b[0;34m(\u001b[0m\u001b[0;34m\"==============================================\"\u001b[0m\u001b[0;34m)\u001b[0m\u001b[0;34m\u001b[0m\u001b[0;34m\u001b[0m\u001b[0m\n",
            "\u001b[0;31mZeroDivisionError\u001b[0m: division by zero"
          ]
        }
      ]
    },
    {
      "cell_type": "code",
      "metadata": {
        "colab": {
          "base_uri": "https://localhost:8080/"
        },
        "id": "EheaNOgFCS68",
        "outputId": "25ed42c9-ed54-48bd-f172-0407e273e6ff"
      },
      "source": [
        ""
      ],
      "execution_count": null,
      "outputs": [
        {
          "output_type": "execute_result",
          "data": {
            "text/plain": [
              "type"
            ]
          },
          "metadata": {
            "tags": []
          },
          "execution_count": 25
        }
      ]
    },
    {
      "cell_type": "code",
      "metadata": {
        "id": "FZoQateZ86iY"
      },
      "source": [
        "d = {\n",
        "    100,\n",
        "    1000\n",
        "}"
      ],
      "execution_count": null,
      "outputs": []
    },
    {
      "cell_type": "code",
      "metadata": {
        "colab": {
          "base_uri": "https://localhost:8080/"
        },
        "id": "_h5YGgBtAaL-",
        "outputId": "7a78f498-b1f0-42bc-e361-3d301bba321b"
      },
      "source": [
        "try:\n",
        "  # 0 / 0\n",
        "  print(\"=====\")\n",
        "  d = {\n",
        "    100,\n",
        "    1000\n",
        "  } + 4\n",
        "except TypeError as e:\n",
        "  print(e)  \n",
        "\n",
        "except ZeroDivisionError:\n",
        "  print(\"sebia na 0 podeli pios\")\n"
      ],
      "execution_count": null,
      "outputs": [
        {
          "output_type": "stream",
          "text": [
            "=====\n",
            "unsupported operand type(s) for +: 'set' and 'int'\n"
          ],
          "name": "stdout"
        }
      ]
    },
    {
      "cell_type": "code",
      "metadata": {
        "id": "BNIcGIeVA1mq"
      },
      "source": [
        "try:\n",
        "  0 / 0 \n",
        "except:\n",
        "  pass  "
      ],
      "execution_count": null,
      "outputs": []
    },
    {
      "cell_type": "code",
      "metadata": {
        "colab": {
          "base_uri": "https://localhost:8080/",
          "height": 375
        },
        "id": "IjpYbOeBBghB",
        "outputId": "1113f066-faa9-437f-b3c8-5a7883e7700c"
      },
      "source": [
        "try:\n",
        "  0 / 0 \n",
        "except:\n",
        "  0 / 0 "
      ],
      "execution_count": null,
      "outputs": [
        {
          "output_type": "error",
          "ename": "ZeroDivisionError",
          "evalue": "ignored",
          "traceback": [
            "\u001b[0;31m---------------------------------------------------------------------------\u001b[0m",
            "\u001b[0;31mZeroDivisionError\u001b[0m                         Traceback (most recent call last)",
            "\u001b[0;32m<ipython-input-15-f92ef5d8164f>\u001b[0m in \u001b[0;36m<module>\u001b[0;34m()\u001b[0m\n\u001b[1;32m      1\u001b[0m \u001b[0;32mtry\u001b[0m\u001b[0;34m:\u001b[0m\u001b[0;34m\u001b[0m\u001b[0;34m\u001b[0m\u001b[0m\n\u001b[0;32m----> 2\u001b[0;31m   \u001b[0;36m0\u001b[0m \u001b[0;34m/\u001b[0m \u001b[0;36m0\u001b[0m\u001b[0;34m\u001b[0m\u001b[0;34m\u001b[0m\u001b[0m\n\u001b[0m\u001b[1;32m      3\u001b[0m \u001b[0;32mexcept\u001b[0m\u001b[0;34m:\u001b[0m\u001b[0;34m\u001b[0m\u001b[0;34m\u001b[0m\u001b[0m\n",
            "\u001b[0;31mZeroDivisionError\u001b[0m: division by zero",
            "\nDuring handling of the above exception, another exception occurred:\n",
            "\u001b[0;31mZeroDivisionError\u001b[0m                         Traceback (most recent call last)",
            "\u001b[0;32m<ipython-input-15-f92ef5d8164f>\u001b[0m in \u001b[0;36m<module>\u001b[0;34m()\u001b[0m\n\u001b[1;32m      2\u001b[0m   \u001b[0;36m0\u001b[0m \u001b[0;34m/\u001b[0m \u001b[0;36m0\u001b[0m\u001b[0;34m\u001b[0m\u001b[0;34m\u001b[0m\u001b[0m\n\u001b[1;32m      3\u001b[0m \u001b[0;32mexcept\u001b[0m\u001b[0;34m:\u001b[0m\u001b[0;34m\u001b[0m\u001b[0;34m\u001b[0m\u001b[0m\n\u001b[0;32m----> 4\u001b[0;31m   \u001b[0;36m0\u001b[0m \u001b[0;34m/\u001b[0m \u001b[0;36m0\u001b[0m\u001b[0;34m\u001b[0m\u001b[0;34m\u001b[0m\u001b[0m\n\u001b[0m",
            "\u001b[0;31mZeroDivisionError\u001b[0m: division by zero"
          ]
        }
      ]
    },
    {
      "cell_type": "code",
      "metadata": {
        "colab": {
          "base_uri": "https://localhost:8080/",
          "height": 253
        },
        "id": "tuot_dPLDKSC",
        "outputId": "42731f8e-b96f-454c-cc59-bcf330dd313b"
      },
      "source": [
        "inp = input()\n",
        "\n",
        "try:\n",
        "  inp = int(inp)\n",
        "  \n",
        "  try:\n",
        "    assert inp not in l\n",
        "  except AssertionError:\n",
        "    raise ValueError\n",
        "\n",
        "except ValueError:\n",
        "  inp = 0\n",
        "\n",
        "print(inp ** 10)    "
      ],
      "execution_count": null,
      "outputs": [
        {
          "output_type": "stream",
          "text": [
            "5\n"
          ],
          "name": "stdout"
        },
        {
          "output_type": "error",
          "ename": "AssertionError",
          "evalue": "ignored",
          "traceback": [
            "\u001b[0;31m---------------------------------------------------------------------------\u001b[0m",
            "\u001b[0;31mAssertionError\u001b[0m                            Traceback (most recent call last)",
            "\u001b[0;32m<ipython-input-42-628899b6429d>\u001b[0m in \u001b[0;36m<module>\u001b[0;34m()\u001b[0m\n\u001b[1;32m      4\u001b[0m   \u001b[0minp\u001b[0m \u001b[0;34m=\u001b[0m \u001b[0mint\u001b[0m\u001b[0;34m(\u001b[0m\u001b[0minp\u001b[0m\u001b[0;34m)\u001b[0m\u001b[0;34m\u001b[0m\u001b[0;34m\u001b[0m\u001b[0m\n\u001b[1;32m      5\u001b[0m \u001b[0;34m\u001b[0m\u001b[0m\n\u001b[0;32m----> 6\u001b[0;31m   \u001b[0;32massert\u001b[0m \u001b[0minp\u001b[0m \u001b[0;34m!=\u001b[0m\u001b[0;36m5\u001b[0m\u001b[0;34m\u001b[0m\u001b[0;34m\u001b[0m\u001b[0m\n\u001b[0m\u001b[1;32m      7\u001b[0m \u001b[0;32mexcept\u001b[0m \u001b[0mValueError\u001b[0m\u001b[0;34m:\u001b[0m\u001b[0;34m\u001b[0m\u001b[0;34m\u001b[0m\u001b[0m\n\u001b[1;32m      8\u001b[0m   \u001b[0minp\u001b[0m \u001b[0;34m=\u001b[0m \u001b[0;36m0\u001b[0m\u001b[0;34m\u001b[0m\u001b[0;34m\u001b[0m\u001b[0m\n",
            "\u001b[0;31mAssertionError\u001b[0m: "
          ]
        }
      ]
    },
    {
      "cell_type": "code",
      "metadata": {
        "id": "4uQm1U8XEO96"
      },
      "source": [
        "assert "
      ],
      "execution_count": null,
      "outputs": []
    },
    {
      "cell_type": "code",
      "metadata": {
        "colab": {
          "base_uri": "https://localhost:8080/"
        },
        "id": "5Ax68McxDvHg",
        "outputId": "520694a4-a1f0-46c5-c78d-97545ebe5eb5"
      },
      "source": [
        "try:\n",
        "\n",
        "  inp = input()\n",
        "\n",
        "  if inp == '':\n",
        "    raise ZeroDivisionError\n",
        "\n",
        "  \n",
        "\n",
        "except ZeroDivisionError:\n",
        "  print(\"ok\")\n",
        "\n",
        "except Exception as e:\n",
        "  print()  \n",
        "\n",
        "finally:\n",
        "  print(\"==========\")\n",
        "\n",
        "else:\n",
        "  print(\"all ok\")  "
      ],
      "execution_count": null,
      "outputs": [
        {
          "output_type": "stream",
          "text": [
            "\n"
          ],
          "name": "stdout"
        }
      ]
    },
    {
      "cell_type": "code",
      "metadata": {
        "colab": {
          "base_uri": "https://localhost:8080/"
        },
        "id": "zS4Lbm2QD_6q",
        "outputId": "4fe8d42a-c79f-4292-b5e9-215b2d2cf4a5"
      },
      "source": [
        "try:\n",
        "  {} + 7\n",
        "except Exception as e:\n",
        "  print(e)  "
      ],
      "execution_count": null,
      "outputs": [
        {
          "output_type": "stream",
          "text": [
            "unsupported operand type(s) for +: 'dict' and 'int'\n"
          ],
          "name": "stdout"
        }
      ]
    },
    {
      "cell_type": "code",
      "metadata": {
        "colab": {
          "base_uri": "https://localhost:8080/"
        },
        "id": "gPGmwYPkJj2r",
        "outputId": "c2ab8ca6-4ba0-4fac-9734-43197828911c"
      },
      "source": [
        "for i in range(10):\n",
        "  try:\n",
        "    0 / 0\n",
        "  except:\n",
        "    break\n",
        "    print(\"-==-=-=-=-=-=-=-=-=-=-\")\n",
        "  finally:\n",
        "    print(\"hello it's me\")    "
      ],
      "execution_count": null,
      "outputs": [
        {
          "output_type": "stream",
          "text": [
            "hello it's me\n"
          ],
          "name": "stdout"
        }
      ]
    }
  ]
}