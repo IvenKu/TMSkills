{
  "nbformat": 4,
  "nbformat_minor": 0,
  "metadata": {
    "colab": {
      "name": "revolver.ipynb",
      "provenance": [],
      "collapsed_sections": [],
      "authorship_tag": "ABX9TyMIIf9oDVmd4Qd2KMGuMYd9",
      "include_colab_link": true
    },
    "kernelspec": {
      "name": "python3",
      "display_name": "Python 3"
    },
    "language_info": {
      "name": "python"
    }
  },
  "cells": [
    {
      "cell_type": "markdown",
      "metadata": {
        "id": "view-in-github",
        "colab_type": "text"
      },
      "source": [
        "<a href=\"https://colab.research.google.com/github/IvenKu/TMSkills/blob/main/revolver.ipynb\" target=\"_parent\"><img src=\"https://colab.research.google.com/assets/colab-badge.svg\" alt=\"Open In Colab\"/></a>"
      ]
    },
    {
      "cell_type": "code",
      "execution_count": null,
      "metadata": {
        "id": "ldkgDddzhw4I"
      },
      "outputs": [],
      "source": [
        "from IPython.core.display import clear_output\n",
        "import cowsay\n",
        "import random\n",
        "from time import sleep as s\n",
        "\n",
        "\n",
        "temp = \"\"\"\n",
        "       ({})                  \n",
        "    ({})   ({})                  \n",
        "    ({})   ({})\n",
        "       ({})\n",
        "\"\"\"\n",
        "def vert (m):\n",
        "  \n",
        "  for i in range(1):\n",
        "    if m<=5 :\n",
        "      m+=1\n",
        "      print('if',m)\n",
        "    elif m==7:\n",
        "      m=0\n",
        "      n.clear\n",
        "      print('elde',m)\n",
        "  return (m)\n",
        "\n",
        "n={1:\"O\",2:\"O\",3:\"O\",4:\"O\",5:\"O\",6:\"O\"}\n",
        "m=0\n",
        "t=n.update\n",
        "\n",
        "while True:\n",
        "  n={1:\"O\",2:\"O\",3:\"O\",4:\"O\",5:\"O\",6:\"O\"}\n",
        "  \n",
        "  n[(vert(m))]=\"X\"  \n",
        "  m+=1  \n",
        "  print(m, n)\n",
        "  #print(temp.format(t(1),t(2),t(3),t(4),t(5),t(6)))\n",
        "  s(1)"
      ]
    },
    {
      "cell_type": "code",
      "source": [
        "from google.colab import output\n",
        "import cowsay\n",
        "import random\n",
        "from time import sleep as s\n",
        "def vert (m):\n",
        "    for i in range(1):\n",
        "      if m<=5 :\n",
        "        m+=1\n",
        "        #print('if',m)\n",
        "      elif m>=6:\n",
        "        m=1\n",
        "        #n.clear\n",
        "        #print('elde',m)\n",
        "    return m\n",
        "m=0\n",
        "temp = \"\"\"\n",
        "        V\n",
        "       ({})                  \n",
        "    ({})   ({})                  \n",
        "    ({})   ({})\n",
        "       ({})\n",
        "\"\"\"\n",
        "while random.randint(0,10):\n",
        "  output.clear(wait=True) \n",
        "  n={1:\"O\",2:\"O\",3:\"O\",4:\"O\",5:\"O\",6:\"O\"}\n",
        "  m=(vert(m))\n",
        "  n[m]=\"X\"\n",
        "  \n",
        "  #print(m,\"     \", n)\n",
        "  print(temp.format(n.pop(1),n.pop(6),n.pop(2),n.pop(5),n.pop(3),n.pop(4)))\n",
        "  s(0.4)\n",
        "else:\n",
        "  if m==1:\n",
        "    print(\"If you are in the ass,\")\n",
        "    print(\"there are at least two ways out\")\n",
        "  else:\n",
        "    print(\"Enter or bullet\")"
      ],
      "metadata": {
        "colab": {
          "base_uri": "https://localhost:8080/"
        },
        "id": "DxQyZAM3qaJZ",
        "outputId": "6b3f2394-fd42-43fa-f7f8-247498a300d9"
      },
      "execution_count": null,
      "outputs": [
        {
          "output_type": "stream",
          "name": "stdout",
          "text": [
            "\n",
            "        V\n",
            "       (O)                  \n",
            "    (O)   (X)                  \n",
            "    (O)   (O)\n",
            "       (O)\n",
            "\n"
          ]
        }
      ]
    },
    {
      "cell_type": "code",
      "source": [
        "!! pip install cowsay"
      ],
      "metadata": {
        "colab": {
          "base_uri": "https://localhost:8080/"
        },
        "id": "67JbRfCICISz",
        "outputId": "6a54f2f7-3f0d-4956-c794-49915bad6136"
      },
      "execution_count": null,
      "outputs": [
        {
          "output_type": "execute_result",
          "data": {
            "text/plain": [
              "['Collecting cowsay',\n",
              " '  Downloading cowsay-4.0-py2.py3-none-any.whl (24 kB)',\n",
              " 'Installing collected packages: cowsay',\n",
              " 'Successfully installed cowsay-4.0']"
            ]
          },
          "metadata": {},
          "execution_count": 2
        }
      ]
    }
  ]
}