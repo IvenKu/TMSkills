{
  "nbformat": 4,
  "nbformat_minor": 0,
  "metadata": {
    "colab": {
      "name": "scobki.ipynb",
      "provenance": [],
      "collapsed_sections": [],
      "authorship_tag": "ABX9TyP+0At2Cp3j1CduwcoxfOEK",
      "include_colab_link": true
    },
    "kernelspec": {
      "name": "python3",
      "display_name": "Python 3"
    },
    "language_info": {
      "name": "python"
    }
  },
  "cells": [
    {
      "cell_type": "markdown",
      "metadata": {
        "id": "view-in-github",
        "colab_type": "text"
      },
      "source": [
        "<a href=\"https://colab.research.google.com/github/IvenKu/TMSkills/blob/main/scobki.ipynb\" target=\"_parent\"><img src=\"https://colab.research.google.com/assets/colab-badge.svg\" alt=\"Open In Colab\"/></a>"
      ]
    },
    {
      "cell_type": "code",
      "execution_count": null,
      "metadata": {
        "colab": {
          "base_uri": "https://localhost:8080/"
        },
        "id": "n0abbgVekVPi",
        "outputId": "c33b4f86-1c87-464c-845c-b2dc98a7c696"
      },
      "outputs": [
        {
          "output_type": "stream",
          "name": "stdout",
          "text": [
            "True\n"
          ]
        }
      ],
      "source": [
        "\"\"\"\n",
        "# Write a function that will check if all open brackets are closed in the correct order in a string of any length,\n",
        "# among any characters. The method must accept the string and return True if all brackets are closed in the correct order,\n",
        "# otherwise False. Here are some examples:\n",
        "\n",
        "# 1. ([{}]) - True.\n",
        "# 2. ab3(#$%[pop]cvfs){kek} - True.\n",
        "# 3. ([\"{]} - False\n",
        "# 4. lol(kek{4eburek])}[ - False\n",
        "\"\"\"\n",
        "def brackets(string: str = 'lol(kek{4eburek])}[') -> bool:\n",
        "  s=(\"(\",\"{\",\"[\")\n",
        "  o=(\")\",\"}\",\"]\")\n",
        "  t=0\n",
        "  b=0\n",
        "  for i in string:\n",
        "    if (1==s.count(i)):\n",
        "      t=t+1\n",
        "    elif (1==o.count(i)):\n",
        "      b=b+1 \n",
        "  return (t+b)%2==0\n",
        "print (brackets())\n"
      ]
    },
    {
      "cell_type": "code",
      "source": [
        "\"\"\"\n",
        "# 1. ([{}]) - True.\n",
        "# 2. ab3(#$%[pop]cvfs){kek} - True.\n",
        "# 3. ([\"{]} - False\n",
        "# 4. lol(kek{4eburek])}[ - False\n",
        "\"\"\"\n",
        "def brackets(string: str = 'ol(kek{4eburek])}[') -> bool:\n",
        "  s=(\"(\",\"{\",\"[\")\n",
        "  d=(\")\",\"}\",\"]\")\n",
        "  a=0\n",
        "  for i in string:    \n",
        "    if (1==s.count(i)):\n",
        "      a=a+1\n",
        "      z=(string.rfind(s[(s.index(i))])<string.find(d[(s.index(i))]))\n",
        "      if (z==False):\n",
        "        break\n",
        "    elif (1==d.count(i)):\n",
        "      a=a+1\n",
        "      z=(string.find(d[(d.index(i))])>string.rfind(s[(d.index(i))]))\n",
        "     \n",
        "  return (z==(a%2==0))\n",
        "print (\"Otvet:\",brackets())"
      ],
      "metadata": {
        "id": "jxBm-2ZKtHOZ",
        "colab": {
          "base_uri": "https://localhost:8080/"
        },
        "outputId": "3d67f10f-65fe-42fb-c12b-8c3bbb5f2860"
      },
      "execution_count": 182,
      "outputs": [
        {
          "output_type": "stream",
          "name": "stdout",
          "text": [
            "Otvet: False\n"
          ]
        }
      ]
    }
  ]
}