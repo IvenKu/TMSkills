{
  "cells": [
    {
      "cell_type": "markdown",
      "metadata": {
        "id": "view-in-github",
        "colab_type": "text"
      },
      "source": [
        "<a href=\"https://colab.research.google.com/github/IvenKu/TMSkills/blob/main/Chislo2.ipynb\" target=\"_parent\"><img src=\"https://colab.research.google.com/assets/colab-badge.svg\" alt=\"Open In Colab\"/></a>"
      ]
    },
    {
      "cell_type": "code",
      "execution_count": null,
      "metadata": {
        "id": "8QRF_FrP39X0"
      },
      "outputs": [],
      "source": [
        "l = int(input(\"chislo:\"))\n",
        "#l = [i for i in range(1,n+1)]\n",
        "print(l)\n",
        "\n",
        "\n",
        "#while (n!=1) :\n",
        "#  print(\"chet:\",n)\n",
        "  for i in l:\n",
        "    if (i % 2==1):\n",
        "      i=i//2\n",
        "      print(i)\n",
        "    else:\n",
        "      i=i*3+1\n",
        "      print(i)\n",
        "\n",
        "\n",
        "  else:\n",
        "    \n",
        "    print(i)\n",
        "    print(\"nechet\",i)\n",
        "\n",
        "else:\n",
        "  print(\"win\")"
      ]
    },
    {
      "cell_type": "code",
      "execution_count": null,
      "metadata": {
        "id": "bhxJgXEKL7dw"
      },
      "outputs": [],
      "source": [
        "n=int(2)\n",
        "#sh = [i for i in range(1)]\n",
        "sh=[1]\n",
        "print(\"shag\",sh)\n",
        "for i in sh :\n",
        "  print(\"sh i: \",i,\" sh: \",len(sh))\n",
        "  l=(len(sh)-1)\n",
        "  if (n%2==0 and n!=1):\n",
        "    n=n/2\n",
        "    sh.append(i)\n",
        "    print(\"n/2 \",n,\"Sh: \",len(sh))\n",
        "  elif (n!=0):\n",
        "    n=n*3+1\n",
        "    sh.append(i)\n",
        "    print('n*3+1:',n,len(sh))\n",
        "#continue\n",
        "#break \n",
        "print(n,l)\n",
        "\n"
      ]
    },
    {
      "cell_type": "code",
      "execution_count": null,
      "metadata": {
        "id": "MIh1DTGq-3IR"
      },
      "outputs": [],
      "source": [
        "def shag (n:int) -> int:\n",
        "# проверка числа ШАГ\n",
        "  sh = [i for i in range(1)]\n",
        "  print(\"shag\",sh)\n",
        "  for i in sh :\n",
        "    print(\"sh i: \",i,\" sh: \",len(sh))\n",
        "    l=(len(sh)-1)\n",
        "    if (n%2==0 and n!=1):\n",
        "      n=n/2\n",
        "      sh.append(i)\n",
        "      print(\"n/2 \",n,\"Sh: \",len(sh))\n",
        "    elif (n!=1):\n",
        "      n=n*3+1\n",
        "      sh.append(i)\n",
        "      print('n*3+1:',n,len(sh))\n",
        "#continue\n",
        "#break \n",
        "  return l\n"
      ]
    },
    {
      "cell_type": "code",
      "execution_count": 79,
      "metadata": {
        "colab": {
          "base_uri": "https://localhost:8080/"
        },
        "id": "qklCSC-Fo-zF",
        "outputId": "ae216e2b-ed7e-4418-aa22-9688805b6a9a"
      },
      "outputs": [
        {
          "output_type": "stream",
          "name": "stdout",
          "text": [
            "chislo:1\n",
            "0\n"
          ]
        }
      ],
      "source": [
        "def shag (n:int) -> int:\n",
        "# проверка числа ШАГ\n",
        "#  sh = [i for i in range(1)]\n",
        "  sh=[1]\n",
        "  #  print(\"shag\",sh)\n",
        "  for i in sh :\n",
        "#    print(\"sh i: \",i,\" sh: \",len(sh))\n",
        "    l=(len(sh)-1)\n",
        "    if (n%2==0 and n!=1 ):\n",
        "      n=n//2\n",
        "      sh.append(i)\n",
        "#      print(\"n/2 \",n,\"Sh: \",len(sh))\n",
        "    elif (n!=1):\n",
        "      n=n*3+1\n",
        "      print(\"tet\", n)\n",
        "      sh.append(i)\n",
        "#      print('n*3+1:',n,len(sh))\n",
        "#continue\n",
        "#break \n",
        "  return sh\n",
        "\n",
        "#-------------------------------------------------------\n",
        "\n",
        "n = int(input(\"chislo:\"))\n",
        "\n",
        "#shag(n)\n",
        "\n",
        "print(len(shag(n))-1)\n",
        "\n"
      ]
    },
    {
      "cell_type": "code",
      "execution_count": null,
      "metadata": {
        "colab": {
          "base_uri": "https://localhost:8080/"
        },
        "id": "yzxrtES_2Ftz",
        "outputId": "5ac87dbf-4af2-4044-aa78-9594e7a17e9b"
      },
      "outputs": [
        {
          "output_type": "stream",
          "name": "stdout",
          "text": [
            "Vvod: 400\n",
            "{400: 27, 399: 120, 398: 120, 397: 27, 396: 27, 395: 76, 394: 27, 393: 58, 392: 27, 391: 120, 390: 120, 389: 120, 388: 120, 387: 120, 386: 120, 385: 32, 384: 14, 383: 45, 382: 45, 381: 107, 380: 107, 379: 58, 378: 107, 377: 63, 376: 107, 375: 45, 374: 45, 373: 19, 372: 19, 371: 45, 370: 45, 369: 19, 368: 19, 367: 45, 366: 94, 365: 94, 364: 94, 363: 45, 362: 19, 361: 45, 360: 19, 359: 50, 358: 32, 357: 32, 356: 32, 355: 32, 354: 32, 353: 125, 352: 19, 351: 81, 350: 81, 349: 32, 348: 32, 347: 125, 346: 32, 345: 125, 344: 32, 343: 125, 342: 125, 341: 11, 340: 11, 339: 50, 338: 50, 337: 112, 336: 11, 335: 68, 334: 68, 333: 112, 332: 112, 331: 24, 330: 112, 329: 50, 328: 112, 327: 143, 326: 24, 325: 24, 324: 24, 323: 99, 322: 99, 321: 24, 320: 11, 319: 55, 318: 55, 317: 37, 316: 37, 315: 37, 314: 37, 313: 130, 312: 37, 311: 86, 310: 86, 309: 24, 308: 24, 307: 37, 306: 37, 305: 37, 304: 24, 303: 42, 302: 16, 301: 16, 300: 16, 299: 117, 298: 24, 297: 73, 296: 24, 295: 55, 294: 117, 293: 117, 292: 117, 291: 117, 290: 117, 289: 29, 288: 24, 287: 42, 286: 104, 285: 104, 284: 104, 283: 60, 282: 16, 281: 42, 280: 16, 279: 42, 278: 42, 277: 16, 276: 16, 275: 91, 274: 91, 273: 29, 272: 16, 271: 42, 270: 42, 269: 29, 268: 29, 267: 21, 266: 29, 265: 122, 264: 29, 263: 78, 262: 29, 261: 29, 260: 29, 259: 122, 258: 122, 257: 122, 256: 8, 255: 47, 254: 47, 253: 109, 252: 109, 251: 65, 250: 109, 249: 47, 248: 109, 247: 47, 246: 47, 245: 21, 244: 21, 243: 96, 242: 96, 241: 21, 240: 21, 239: 52, 238: 34, 237: 34, 236: 34, 235: 127, 234: 21, 233: 83, 232: 21, 231: 127, 230: 34, 229: 34, 228: 34, 227: 13, 226: 13, 225: 52, 224: 21, 223: 70, 222: 70, 221: 114, 220: 114, 219: 52, 218: 114, 217: 26, 216: 114, 215: 101, 214: 101, 213: 13, 212: 13, 211: 39, 210: 39, 209: 39, 208: 13, 207: 88, 206: 88, 205: 26, 204: 26, 203: 39, 202: 26, 201: 18, 200: 26, 199: 119, 198: 26, 197: 26, 196: 26, 195: 119, 194: 119, 193: 119, 192: 13, 191: 44, 190: 106, 189: 106, 188: 106, 187: 44, 186: 18, 185: 44, 184: 18, 183: 93, 182: 93, 181: 18, 180: 18, 179: 31, 178: 31, 177: 31, 176: 18, 175: 80, 174: 31, 173: 31, 172: 31, 171: 124, 170: 10, 169: 49, 168: 10, 167: 67, 166: 111, 165: 111, 164: 111, 163: 23, 162: 23, 161: 98, 160: 10, 159: 54, 158: 36, 157: 36, 156: 36, 155: 85, 154: 23, 153: 36, 152: 23, 151: 15, 150: 15, 149: 23, 148: 23, 147: 116, 146: 116, 145: 116, 144: 23, 143: 103, 142: 103, 141: 15, 140: 15, 139: 41, 138: 15, 137: 90, 136: 15, 135: 41, 134: 28, 133: 28, 132: 28, 131: 28, 130: 28, 129: 121, 128: 7, 127: 46, 126: 108, 125: 108, 124: 108, 123: 46, 122: 20, 121: 95, 120: 20, 119: 33, 118: 33, 117: 20, 116: 20, 115: 33, 114: 33, 113: 12, 112: 20, 111: 69, 110: 113, 109: 113, 108: 113, 107: 100, 106: 12, 105: 38, 104: 12, 103: 87, 102: 25, 101: 25, 100: 25, 99: 25, 98: 25, 97: 118, 96: 12, 95: 105, 94: 105, 93: 17, 92: 17, 91: 92, 90: 17, 89: 30, 88: 17, 87: 30, 86: 30, 85: 9, 84: 9, 83: 110, 82: 110, 81: 22, 80: 9, 79: 35, 78: 35, 77: 22, 76: 22, 75: 14, 74: 22, 73: 115, 72: 22, 71: 102, 70: 14, 69: 14, 68: 14, 67: 27, 66: 27, 65: 27, 64: 6, 63: 107, 62: 107, 61: 19, 60: 19, 59: 32, 58: 19, 57: 32, 56: 19, 55: 112, 54: 112, 53: 11, 52: 11, 51: 24, 50: 24, 49: 24, 48: 11, 47: 104, 46: 16, 45: 16, 44: 16, 43: 29, 42: 8, 41: 109, 40: 8, 39: 34, 38: 21, 37: 21, 36: 21, 35: 13, 34: 13, 33: 26, 32: 5, 31: 106, 30: 18, 29: 18, 28: 18, 27: 111, 26: 10, 25: 23, 24: 10, 23: 15, 22: 15, 21: 7, 20: 7, 19: 20, 18: 20, 17: 12, 16: 4, 15: 17, 14: 17, 13: 9, 12: 9, 11: 14, 10: 6, 9: 19, 8: 3, 7: 16, 6: 8, 5: 5, 4: 2, 3: 7, 2: 1}\n"
          ]
        }
      ],
      "source": [
        "### 35\n",
        "\n",
        "def shag (n:int) -> int:\n",
        "# проверка числа ШАГ\n",
        "  sh=[1]\n",
        "  for i in sh :\n",
        "    if (n%2==0 and n!=1):\n",
        "      n=n//2\n",
        "      sh.append(i)\n",
        "    elif (n!=1):\n",
        "      n=n*3+1\n",
        "      sh.append(i)\n",
        "  return sh\n",
        "\n",
        "#-------------------------------------------------------\n",
        "l={}\n",
        "n = int(input(\"Vvod: \"))\n",
        "#shag(n)\n",
        "for i in range(1,n,1):\n",
        "  \n",
        "  #print(\"n| \",n, \" |\", (len(shag(n))-1))\n",
        "  g=n\n",
        "  s=(len(shag(n))-1)\n",
        "  l[g]= s\n",
        "  n=n-1\n",
        "\n",
        "print(l)"
      ]
    },
    {
      "cell_type": "code",
      "source": [
        "### 36\n",
        "\n",
        "def shag (n:int) -> int:\n",
        "# проверка числа ШАГ\n",
        "  sh=[1]\n",
        "  for i in sh :\n",
        "    if (n%2==0 and n!=1):\n",
        "      n=n//2\n",
        "      sh.append(i)\n",
        "      #print(\"/I \",i,\"N \",n,\"    SH \",sh)\n",
        "      num(n,sh)\n",
        "    elif (n!=1):\n",
        "      n=n*3+1\n",
        "      sh.append(i)\n",
        "      #print(\"*I \",i,\"N \",n)\n",
        "      num(n,sh)\n",
        "\n",
        "  return sh\n",
        "\n",
        "def num(n:int,sh):\n",
        "  if l.get(n)!=None:\n",
        "    print(\"DO \",sh)\n",
        "    sh.append(a for a in range(l.get(n)))\n",
        "    print(\"po \",sh)\n",
        "  #else:\n",
        "    #print(\"else\")  \n",
        "  \n",
        "  return sh\n",
        "\n",
        "\n",
        "#-------------------------------------------------------\n",
        "l={}\n",
        "\n",
        "n = int(input(\"Vvod: \"))\n",
        "#l = {a: None for a in range(n)}\n",
        "t=set(a+1 for a in range(n))\n",
        "\n",
        "for i in t:\n",
        "  #print(l.keys(i))\n",
        "  \n",
        "  g=i\n",
        "  s=(len(shag(i))-1)\n",
        "  #print(\"L\",l,i,\"SSSS \",s)\n",
        "  l[g]= s\n",
        "print(l)\n",
        "\n",
        "\n",
        "\n",
        "\n"
      ],
      "metadata": {
        "id": "zQ2R7b8MFPdL"
      },
      "execution_count": null,
      "outputs": []
    },
    {
      "cell_type": "code",
      "source": [
        "\n",
        "#t=set(a+1 for a in range(8))\n",
        "sh"
      ],
      "metadata": {
        "id": "dyK5twOWLa8i"
      },
      "execution_count": null,
      "outputs": []
    }
  ],
  "metadata": {
    "colab": {
      "collapsed_sections": [],
      "name": "Chislo2.ipynb",
      "provenance": [],
      "authorship_tag": "ABX9TyPRHC12mf7mWHt/m/iL99W9",
      "include_colab_link": true
    },
    "kernelspec": {
      "display_name": "Python 3",
      "name": "python3"
    },
    "language_info": {
      "name": "python"
    }
  },
  "nbformat": 4,
  "nbformat_minor": 0
}